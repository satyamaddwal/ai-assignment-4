{
 "cells": [
  {
   "cell_type": "code",
   "execution_count": 1,
   "id": "ad5115e2-99d1-4c62-8912-31a54fdfe2a5",
   "metadata": {},
   "outputs": [
    {
     "name": "stdout",
     "output_type": "stream",
     "text": [
      "1\n",
      "2\n",
      "3\n",
      "4\n",
      "5\n"
     ]
    }
   ],
   "source": [
    "''' Question 1. Print numbers from 1 to 5 using a while loop.  '''\n",
    "\n",
    "# solution\n",
    "\n",
    "i = 1\n",
    "while i <=5:\n",
    "    print(i)\n",
    "    i = i+1"
   ]
  },
  {
   "cell_type": "code",
   "execution_count": 2,
   "id": "9b276223-9d35-4bed-9da7-36d9c80fddb0",
   "metadata": {},
   "outputs": [
    {
     "name": "stdout",
     "output_type": "stream",
     "text": [
      "55\n"
     ]
    }
   ],
   "source": [
    "'''Question 2. Calculate the sum of numbers from 1 to 10 using a while loop.  '''\n",
    "\n",
    "# solution\n",
    "\n",
    "i = 1\n",
    "counter = 0\n",
    "while i <= 10:\n",
    "    counter = counter + i\n",
    "    i =i+1\n",
    "print(counter)"
   ]
  },
  {
   "cell_type": "code",
   "execution_count": 8,
   "id": "9ef126d3-b450-4568-af7d-edf50a0cad90",
   "metadata": {},
   "outputs": [
    {
     "name": "stdin",
     "output_type": "stream",
     "text": [
      "enter a number 5\n"
     ]
    },
    {
     "name": "stdout",
     "output_type": "stream",
     "text": [
      "120\n"
     ]
    }
   ],
   "source": [
    "''' Question 3. Calculate the factorial of a number using a for loop.  '''\n",
    "\n",
    "# solution\n",
    "\n",
    "n = int(input('enter a number'))\n",
    "count = 1\n",
    "for i in range(n,0,-1) :\n",
    "    count = count*i\n",
    "print(count)"
   ]
  },
  {
   "cell_type": "code",
   "execution_count": 13,
   "id": "c6b5ea7e-37e9-473d-8ff1-5ee8760b945e",
   "metadata": {},
   "outputs": [
    {
     "name": "stdout",
     "output_type": "stream",
     "text": [
      "['I', 'a', 'o', 'e', 'o', 'e', 'a', 'u', 'e', 'u', 'u', 'i', 'e', 'a']\n"
     ]
    },
    {
     "data": {
      "text/plain": [
       "14"
      ]
     },
     "execution_count": 13,
     "metadata": {},
     "output_type": "execute_result"
    }
   ],
   "source": [
    "''' Question 4. Count the number of vowels in a string using a for loop.  '''\n",
    "\n",
    "# solution\n",
    "\n",
    "s = 'I want to become a successful businessman'\n",
    "vowels = 'AEIOUaeiou'\n",
    "l = []\n",
    "for i in s:\n",
    "    if i in vowels:\n",
    "        l.append(i)\n",
    "print(l)\n",
    "len(l)\n",
    "        "
   ]
  },
  {
   "cell_type": "code",
   "execution_count": 34,
   "id": "2807b811-2751-4922-9047-68ffe1734a61",
   "metadata": {},
   "outputs": [
    {
     "name": "stdout",
     "output_type": "stream",
     "text": [
      "* * * * * \n",
      "* * * * * \n",
      "* * * * * \n",
      "* * * * * \n",
      "* * * * * \n"
     ]
    }
   ],
   "source": [
    "''' Question 5. Print a pattern using nested loops.  '''\n",
    "\n",
    "# solution\n",
    "\n",
    "for i in range(0,5):\n",
    "    for j in range(0,5):\n",
    "        print('*', end = ' ')\n",
    "        \n",
    "    print()"
   ]
  },
  {
   "cell_type": "code",
   "execution_count": 9,
   "id": "ea1b12e1-9c6b-4d16-b946-0817483229ab",
   "metadata": {},
   "outputs": [
    {
     "name": "stdin",
     "output_type": "stream",
     "text": [
      "enter a number 5\n"
     ]
    },
    {
     "name": "stdout",
     "output_type": "stream",
     "text": [
      "2 * 1 = 2\n",
      "2 * 2 = 4\n",
      "2 * 3 = 6\n",
      "2 * 4 = 8\n",
      "2 * 5 = 10\n",
      "2 * 6 = 12\n",
      "2 * 7 = 14\n",
      "2 * 8 = 16\n",
      "2 * 9 = 18\n",
      "2 * 10 = 20\n",
      "3 * 1 = 3\n",
      "3 * 2 = 6\n",
      "3 * 3 = 9\n",
      "3 * 4 = 12\n",
      "3 * 5 = 15\n",
      "3 * 6 = 18\n",
      "3 * 7 = 21\n",
      "3 * 8 = 24\n",
      "3 * 9 = 27\n",
      "3 * 10 = 30\n",
      "4 * 1 = 4\n",
      "4 * 2 = 8\n",
      "4 * 3 = 12\n",
      "4 * 4 = 16\n",
      "4 * 5 = 20\n",
      "4 * 6 = 24\n",
      "4 * 7 = 28\n",
      "4 * 8 = 32\n",
      "4 * 9 = 36\n",
      "4 * 10 = 40\n"
     ]
    }
   ],
   "source": [
    "''' Question 6. Generate a multiplication table using nested loops.  '''\n",
    "\n",
    "# solution\n",
    "n = int(input('enter a number'))\n",
    "for i in range(2,n):\n",
    "    for j in range(1,11):\n",
    "        result = j*i\n",
    "        print(i, '*', j, '=', result)\n",
    "        j = j+1"
   ]
  },
  {
   "cell_type": "code",
   "execution_count": null,
   "id": "4a89a33c-8e03-4437-ab87-273cc3797896",
   "metadata": {},
   "outputs": [],
   "source": []
  }
 ],
 "metadata": {
  "kernelspec": {
   "display_name": "Python 3 (ipykernel)",
   "language": "python",
   "name": "python3"
  },
  "language_info": {
   "codemirror_mode": {
    "name": "ipython",
    "version": 3
   },
   "file_extension": ".py",
   "mimetype": "text/x-python",
   "name": "python",
   "nbconvert_exporter": "python",
   "pygments_lexer": "ipython3",
   "version": "3.10.8"
  }
 },
 "nbformat": 4,
 "nbformat_minor": 5
}
